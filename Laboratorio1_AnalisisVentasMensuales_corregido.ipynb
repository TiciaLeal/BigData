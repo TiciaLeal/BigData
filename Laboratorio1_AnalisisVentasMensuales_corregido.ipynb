{
  "nbformat": 4,
  "nbformat_minor": 0,
  "metadata": {
    "colab": {
      "provenance": [],
      "toc_visible": true,
      "include_colab_link": true
    },
    "kernelspec": {
      "name": "python3",
      "display_name": "Python 3"
    },
    "language_info": {
      "name": "python"
    }
  },
  "cells": [
    {
      "cell_type": "markdown",
      "metadata": {
        "id": "view-in-github",
        "colab_type": "text"
      },
      "source": [
        "<a href=\"https://colab.research.google.com/github/TiciaLeal/BigData/blob/main/Laboratorio1_AnalisisVentasMensuales_corregido.ipynb\" target=\"_parent\"><img src=\"https://colab.research.google.com/assets/colab-badge.svg\" alt=\"Open In Colab\"/></a>"
      ]
    },
    {
      "cell_type": "markdown",
      "source": [
        "**Laboratorio 1**\n",
        "\n",
        "**Análisis de Datos de Ventas Mensuales**\n",
        "\n",
        "Grupo 30:\n",
        "\n",
        "• Aniñir Lionel\n",
        "\n",
        "• Leal Patricia Guillermina\n",
        "\n",
        "• Weinzettel Eduardo"
      ],
      "metadata": {
        "id": "nsM7_prvl1TX"
      }
    },
    {
      "cell_type": "code",
      "source": [
        "from google.colab import drive\n",
        "drive.mount('/content/drive')"
      ],
      "metadata": {
        "id": "rdRUlRAkadvT"
      },
      "execution_count": null,
      "outputs": []
    },
    {
      "cell_type": "code",
      "execution_count": null,
      "metadata": {
        "id": "o2X3H0bskkLN"
      },
      "outputs": [],
      "source": [
        "# Importar las librerias que voy a necesitar.\n",
        "\n",
        "import os\n",
        "import pandas as pd\n",
        "import plotly.graph_objects as go\n",
        "import plotly.express as px\n",
        "from plotly.subplots import make_subplots\n",
        "from datetime import datetime, timedelta"
      ]
    },
    {
      "cell_type": "code",
      "source": [
        "ruta_de_acceso = '/content/drive/MyDrive/Colab Notebooks/Big Data/Dataset laboratorio 1'\n",
        "archivos = os.listdir(ruta_de_acceso)\n",
        "\n",
        "dataframes = {}\n",
        "\n",
        "for archivo in archivos:\n",
        "    if archivo.endswith('.csv'):#Asegurarse de que se consideren archivos csv\n",
        "        mes = archivo.split('_')[3].split('.')[0] # Obtener el nombre del mes sin la extensión\n",
        "        ruta_completa = os.path.join(ruta_de_acceso, archivo) # Ruta de acceso completa\n",
        "        df = pd.read_csv(ruta_completa) # Cargar el csv en un Dataframe\n",
        "        df_ventas = df.copy() # Hago una copia\n",
        "\n",
        "        # Transformo todos los valores no numéricos en NaN en las columnas Cantidad Pedida y Precio Unitario\n",
        "        df_ventas['Cantidad Pedida'] = pd.to_numeric(df_ventas['Cantidad Pedida'], errors='coerce') #El errors= 'coerce' transforma los valores no numericos a NaN'\n",
        "        df_ventas['Precio Unitario'] = pd.to_numeric(df_ventas['Precio Unitario'], errors='coerce')\n",
        "\n",
        "        # Elimino todos los NaN y me quedo solo con los valores numéricos\n",
        "        df_ventas = df_ventas.loc[~df_ventas['Cantidad Pedida'].isna()]\n",
        "        df_ventas = df_ventas.loc[~df_ventas['Precio Unitario'].isna()]\n",
        "        df_ventas = df_ventas.dropna()\n",
        "\n",
        "        # Transformo todos los valores numéricos al tipo de dato int\n",
        "        df_ventas['Cantidad Pedida'] = df_ventas['Cantidad Pedida'].astype(int)\n",
        "        df_ventas['Precio Unitario'] = df_ventas['Precio Unitario'].astype(float)\n",
        "\n",
        "        dataframes[mes] = df_ventas\n",
        "\n",
        "dataframes['Diciembre'] #Cambio el mes que voy a utilizar\n"
      ],
      "metadata": {
        "id": "RD_rx2FJlAL7"
      },
      "execution_count": null,
      "outputs": []
    },
    {
      "cell_type": "markdown",
      "source": [
        "1. Comportamiento de las ventas en los distintos meses:\n",
        "● ¿Cómo variaron las ventas a lo largo de los diferentes meses?"
      ],
      "metadata": {
        "id": "ERFpCiPmztAe"
      }
    },
    {
      "cell_type": "code",
      "source": [
        "# Calcular unidades vendidas por mes\n",
        "meses = ['Enero', 'Febrero', 'Marzo', 'Abril', 'Mayo', 'Junio', 'Julio', 'Agosto', 'Septiembre', 'Octubre', 'Noviembre', 'Diciembre']\n",
        "\n",
        "totales_ventas = []\n",
        "nombres_meses = []\n",
        "for mes in meses:\n",
        "    dataframe_mes = dataframes[mes]\n",
        "\n",
        "    total_ventas_mes = dataframe_mes['Cantidad Pedida'].sum()\n",
        "    totales_ventas.append(total_ventas_mes)\n",
        "    nombres_meses.append(mes)\n",
        "\n",
        "# Crear un objeto figura para el gráfico de barras\n",
        "fig_ventas = go.Figure()\n",
        "\n",
        "for i, total_ventas in enumerate(totales_ventas):\n",
        "    fig_ventas.add_annotation(\n",
        "        go.layout.Annotation(\n",
        "            x=nombres_meses[i],  # Coordenada X de la etiqueta\n",
        "            y=total_ventas,  # Coordenada Y de la etiqueta\n",
        "            text=str(total_ventas),  # Texto de la etiqueta (convierte el número a cadena)\n",
        "            showarrow=False,  # No mostrar flecha\n",
        "            font=dict(size=12, color='black'),  # Tamaño y color del texto\n",
        "            xanchor='center',  # Anclaje horizontal de la etiqueta\n",
        "            yanchor='bottom'  # Anclaje vertical de la etiqueta\n",
        "        )\n",
        "    )\n",
        "\n",
        "fig_ventas.add_trace(go.Bar(\n",
        "        x=nombres_meses,\n",
        "        y=totales_ventas,\n",
        "        name='Unidades Vendidas',\n",
        "        marker=dict(color='light blue')\n",
        "))\n",
        "\n",
        "fig_ventas.update_layout(\n",
        "    title='Unidades Vendidas por Mes',\n",
        "    xaxis=dict(title='Meses'),\n",
        "    yaxis=dict(title='Unidades Vendidas')\n",
        ")\n",
        "\n",
        "fig_ventas.show()"
      ],
      "metadata": {
        "id": "HWunuI4Pxgam"
      },
      "execution_count": null,
      "outputs": []
    },
    {
      "cell_type": "markdown",
      "source": [
        "● ¿Hubo algún mes que se destacó en términos de ventas?"
      ],
      "metadata": {
        "id": "I03fUhz-1H_W"
      }
    },
    {
      "cell_type": "code",
      "source": [
        "# Identificar el mes con las ventas más altas\n",
        "mes_max_ventas = nombres_meses[totales_ventas.index(max(totales_ventas))]\n",
        "ventas_maximas = max(totales_ventas)\n",
        "\n",
        "print(f\"El mes que se destacó por sus altas ventas es {mes_max_ventas} con {ventas_maximas} unidades vendidas.\")"
      ],
      "metadata": {
        "id": "RwRgdp9VvcnY"
      },
      "execution_count": null,
      "outputs": []
    },
    {
      "cell_type": "markdown",
      "source": [
        "● ¿Cuál es el ingreso total generado por mes?"
      ],
      "metadata": {
        "id": "fcKgzz_E1jHo"
      }
    },
    {
      "cell_type": "code",
      "source": [
        "# Cálculo de las ventas totales\n",
        "df_ventas['Ingresos Totales'] = df_ventas['Precio Unitario'] * df_ventas['Cantidad Pedida']\n",
        "df_ingresos = df_ventas\n",
        "df_ingresos"
      ],
      "metadata": {
        "id": "JaF62DVK2Xqr"
      },
      "execution_count": null,
      "outputs": []
    },
    {
      "cell_type": "code",
      "source": [
        "import plotly.graph_objects as go\n",
        "\n",
        "# Crear un objeto figura para el segundo gráfico de barras\n",
        "fig2 = go.Figure()\n",
        "\n",
        "# Agregar las barras\n",
        "fig2.add_trace(go.Bar(\n",
        "    x=nombres_meses,\n",
        "    y=totales_ventas,\n",
        "    name='Ingresos Totales',\n",
        "    marker=dict(color='green')\n",
        "))\n",
        "\n",
        "# Agregar el valor de cada mes sobre las barras\n",
        "for mes, valor in zip(nombres_meses, totales_ventas):\n",
        "    fig2.add_annotation(\n",
        "        go.layout.Annotation(\n",
        "            x=mes,  # Coordenada X de la etiqueta\n",
        "            y=valor,  # Coordenada Y de la etiqueta\n",
        "            text=\"${:,.2f}\".format(valor),  # Texto de la etiqueta (convierte el número a cadena)\n",
        "            showarrow=False,  # No mostrar flecha\n",
        "            font=dict(size=12, color='black'),  # Tamaño y color del texto\n",
        "            xanchor='center',  # Anclaje horizontal de la etiqueta\n",
        "            yanchor='bottom'  # Anclaje vertical de la etiqueta\n",
        "        )\n",
        "    )\n",
        "\n",
        "# Configuración del diseño del gráfico\n",
        "fig2.update_layout(\n",
        "    title='Ingresos Totales por Mes',\n",
        "    xaxis=dict(title='Meses'),\n",
        "    yaxis=dict(title='Ingresos Totales'),\n",
        ")\n",
        "\n",
        "fig2.show()"
      ],
      "metadata": {
        "id": "HMAkdFcKXxJl"
      },
      "execution_count": null,
      "outputs": []
    },
    {
      "cell_type": "markdown",
      "source": [
        "2. Optimización de la publicidad y patrón de ventas por hora:\n",
        "\n",
        "● ¿Cuál es el momento ideal del día para presentar la publicidad y aumentar la\n",
        "probabilidad de compra?"
      ],
      "metadata": {
        "id": "g8-rchSBl6f-"
      }
    },
    {
      "cell_type": "code",
      "source": [
        "# Crear listas para almacenar los totales de ventas por hora y las horas del día\n",
        "totales_ventas_por_hora = []  # Lista para almacenar los totales de ventas por hora\n",
        "horas_del_dia = list(range(24))  # Lista con las 24 horas del día\n",
        "\n",
        "# Recorrer cada hora del día\n",
        "for hora in horas_del_dia:\n",
        "    # Calcular el total de ventas para la hora actual\n",
        "    ventas_por_hora = 0\n",
        "    for mes in meses:\n",
        "        dataframe_mes = dataframes[mes]\n",
        "        dataframe_mes = extraer_datos(dataframe_mes)\n",
        "        ventas_hora_actual = dataframe_mes[dataframe_mes['Hora'] == hora]['Cantidad Pedida'].sum()\n",
        "        ventas_por_hora += ventas_hora_actual\n",
        "\n",
        "    # Agregar el total de ventas por hora a la lista\n",
        "    totales_ventas_por_hora.append(ventas_por_hora)\n",
        "\n",
        "# Encontrar la hora con las ventas más altas\n",
        "hora_max_ventas = horas_del_dia[totales_ventas_por_hora.index(max(totales_ventas_por_hora))]\n",
        "ventas_maximas_hora = max(totales_ventas_por_hora)\n",
        "\n",
        "print(f\"El momento ideal del día para presentar la publicidad y aumentar la probabilidad de compra es a las {hora_max_ventas} horas, con un total de {ventas_maximas_hora} unidades vendidas.\")"
      ],
      "metadata": {
        "id": "xGKVsFXIxg98"
      },
      "execution_count": null,
      "outputs": []
    },
    {
      "cell_type": "markdown",
      "source": [
        "● ¿Cómo cambian los patrones de ventas por hora a lo largo del año?"
      ],
      "metadata": {
        "id": "u-jrLtsNmF5l"
      }
    },
    {
      "cell_type": "code",
      "source": [
        "# Crear listas para almacenar los totales de ventas por hora y las horas del día\n",
        "totales_ventas_por_hora = []  # Lista para almacenar los totales de ventas por hora\n",
        "horas_del_dia = list(range(24))  # Lista con las 24 horas del día\n",
        "\n",
        "# Recorrer cada hora del día\n",
        "for hora in horas_del_dia:\n",
        "    # Calcular el total de ventas para la hora actual\n",
        "    ventas_por_hora = 0\n",
        "    for mes in meses:\n",
        "        dataframe_mes = dataframes[mes]\n",
        "        dataframe_mes = extraer_datos(dataframe_mes)\n",
        "        ventas_hora_actual = dataframe_mes[dataframe_mes['Hora'] == hora]['Cantidad Pedida'].sum()\n",
        "        ventas_por_hora += ventas_hora_actual\n",
        "\n",
        "    # Agregar el total de ventas por hora a la lista\n",
        "    totales_ventas_por_hora.append(ventas_por_hora)\n",
        "\n",
        "# Encontrar la hora con las ventas más altas\n",
        "hora_max_ventas = horas_del_dia[totales_ventas_por_hora.index(max(totales_ventas_por_hora))]\n",
        "ventas_maximas_hora = max(totales_ventas_por_hora)\n",
        "\n",
        "print(f\"El momento ideal del día para presentar la publicidad y aumentar la probabilidad de compra es a las {hora_max_ventas} horas, con un total de {ventas_maximas_hora} unidades vendidas.\")\n",
        "\n",
        "# Crear un objeto figura para el gráfico de barras\n",
        "fig = go.Figure()\n",
        "\n",
        "fig.add_trace(go.Bar(\n",
        "        x=horas_del_dia,\n",
        "        y=totales_ventas_por_hora,\n",
        "        name='Unidades Vendidas por Hora',\n",
        "        marker=dict(color='orange')\n",
        "))\n",
        "\n",
        "fig.update_layout(\n",
        "    title='Unidades Vendidas por Hora a lo largo del año',\n",
        "    xaxis=dict(title='Hora del Día'),\n",
        "    yaxis=dict(title='Unidades Vendidas')\n",
        ")\n",
        "\n",
        "fig.show()"
      ],
      "metadata": {
        "id": "eRLiZijMxg43"
      },
      "execution_count": null,
      "outputs": []
    },
    {
      "cell_type": "markdown",
      "source": [
        "● ¿Hay modificaciones en los patrones de ventas durante las horas de mayor actividad\n",
        "en los distintos meses?"
      ],
      "metadata": {
        "id": "JadBL5j_mPh_"
      }
    },
    {
      "cell_type": "code",
      "source": [
        "# Crear una lista para almacenar los meses de mayor actividad\n",
        "meses_mayor_actividad = []\n",
        "\n",
        "# Crear listas para almacenar los totales de ventas por hora para los meses de mayor actividad\n",
        "totales_ventas_por_hora_mayor_actividad = []\n",
        "\n",
        "# Recorrer cada mes\n",
        "for mes in meses:\n",
        "    # Obtener el DataFrame para el mes actual\n",
        "    dataframe_mes = dataframes[mes]\n",
        "    dataframe_mes = extraer_datos(dataframe_mes)\n",
        "\n",
        "    # Calcular el total de ventas por hora para el mes actual\n",
        "    totales_ventas_por_hora = []\n",
        "    for hora in horas_del_dia:\n",
        "        ventas_hora_actual = dataframe_mes[dataframe_mes['Hora'] == hora]['Cantidad Pedida'].sum()\n",
        "        totales_ventas_por_hora.append(ventas_hora_actual)\n",
        "\n",
        "    # Encontrar la hora con las ventas más altas para el mes actual\n",
        "    hora_max_ventas = horas_del_dia[totales_ventas_por_hora.index(max(totales_ventas_por_hora))]\n",
        "    ventas_maximas_hora = max(totales_ventas_por_hora)\n",
        "\n",
        "    # Verificar si este mes tiene mayor actividad en ventas (por ejemplo, si supera un umbral)\n",
        "    umbral_actividad = 1000  # Define un umbral de actividad según tus datos reales\n",
        "    if ventas_maximas_hora > umbral_actividad:\n",
        "        meses_mayor_actividad.append(mes)\n",
        "        totales_ventas_por_hora_mayor_actividad.append(totales_ventas_por_hora)\n",
        "\n",
        "# Crear un objeto figura para el gráfico de líneas\n",
        "fig = go.Figure()\n",
        "\n",
        "# Agregar un trazo para cada mes de mayor actividad\n",
        "for i, mes in enumerate(meses_mayor_actividad):\n",
        "    fig.add_trace(go.Scatter(\n",
        "        x=horas_del_dia,\n",
        "        y=totales_ventas_por_hora_mayor_actividad[i],\n",
        "        mode='lines',\n",
        "        name=mes,\n",
        "        line=dict(width=2)\n",
        "    ))\n",
        "\n",
        "fig.update_layout(\n",
        "    title='Patrones de Ventas por Hora en Meses de Mayor Actividad',\n",
        "    xaxis=dict(title='Hora del Día'),\n",
        "    yaxis=dict(title='Unidades Vendidas'),\n",
        "    legend=dict(orientation='h', yanchor='bottom', y=1.02, xanchor='right', x=1)\n",
        ")\n",
        "\n",
        "fig.show()"
      ],
      "metadata": {
        "id": "nTNSr2HMmO8t"
      },
      "execution_count": null,
      "outputs": []
    },
    {
      "cell_type": "markdown",
      "source": [
        " 3. Distribución de ventas por ubicación:\n",
        "* ¿En qué ciudades se han registrado las mayores ventas?\n",
        "* ¿Cómo se comparan las ventas en diferentes estados o regiones?\n",
        "* ¿Existe variación en las ventas por estado a lo largo de los meses?"
      ],
      "metadata": {
        "id": "g_Tzl2FoZvG3"
      }
    },
    {
      "cell_type": "code",
      "source": [
        "meses = ['Enero', 'Febrero', 'Marzo', 'Abril', 'Mayo', 'Junio',\n",
        "        'Julio', 'Agosto', 'Septiembre', 'Octubre', 'Noviembre', 'Diciembre']\n",
        "\n",
        "# Crear una figura y ejes para el gráfico\n",
        "# fig, ax = plt.subplots(figsize=(10, 6))\n",
        "\n",
        "\n",
        "for mes in meses:\n",
        "\n",
        "# Fragmento de código para desglosar y concatenar la dirección de envío\n",
        "# 1. Dividir la columna 'Dirección de Envío' en 'Calle', 'Ciudad' y 'PO BOX'\n",
        "  dataframe_mes_con_direccion = dataframes[mes]['Dirección de Envio'].str.split(', ', expand=True)\n",
        "  dataframe_mes_con_direccion.columns = ['Calle', 'Ciudad', 'PO BOX']\n",
        "\n",
        "# 2. Separar 'PO BOX' en 'Estado' y 'Código Postal'\n",
        "  dataframe_mes_con_direccion[['Estado', 'Cod Postal']] = dataframe_mes_con_direccion['PO BOX'].str.split(' ', expand=True)\n",
        "\n",
        "# 3. Concatenar los componentes de dirección con el DataFrame original\n",
        "  dataframe_mes_desglosado = pd.concat([dataframes[mes], dataframe_mes_con_direccion], axis=1)\n",
        "\n",
        "\n",
        "#dataframe_mes_desglosado\n",
        "\n",
        "# Agrupo el dataframe_mes_desglosado_AgrupadoPor_Estado por estado y sumo la cantidad de productos vendidos\n",
        "  dataframe_mes_desglosado_AgrupadoPor_Estado = dataframe_mes_desglosado.groupby('Estado')['Cantidad Pedida'].sum()\n",
        "\n",
        "# Reseteo el índice del resultado del grupo y conservo el resultado en ventas_por_estado\n",
        "  dataframe_mes_desglosado_AgrupadoPor_Estado = dataframe_mes_desglosado_AgrupadoPor_Estado.reset_index(inplace=False)\n",
        "\n",
        "#  plt.figure(figsize=(10, 6))  # Tamaño del gráfico\n",
        "#  plt.bar(dataframe_mes_desglosado_AgrupadoPor_Estado[\"Estado\"], dataframe_mes_desglosado_AgrupadoPor_Estado[\"Cantidad Pedida\"], color='skyblue')  # Crear el gráfico de barras\n",
        "#  plt.xlabel('Estado')  # Etiqueta del eje x\n",
        "#  plt.ylabel('Cantidad Pedida')  # Etiqueta del eje y\n",
        "#  plt.title('Cantidad Pedida por Estado')  # Título del gráfico\n",
        "#  plt.xticks(rotation=45)  # Rotar las etiquetas del eje x para mayor legibilidad\n",
        "\n",
        "# Mostrar el gráfico\n",
        "#plt.tight_layout()  # Ajustar el diseño para evitar recortes\n",
        "#plt.show()\n",
        "\n",
        "\n",
        "dataframe_mes_desglosado"
      ],
      "metadata": {
        "id": "7E6sCHpr_L_3"
      },
      "execution_count": null,
      "outputs": []
    },
    {
      "cell_type": "code",
      "source": [
        "# Importar las bibliotecas necesarias\n",
        "import matplotlib.pyplot as plt  # Para crear gráficos\n",
        "import pandas as pd  # Para trabajar con DataFrames\n",
        "\n",
        "# Lista de meses\n",
        "meses = ['Enero', 'Febrero', 'Marzo', 'Abril', 'Mayo', 'Junio',\n",
        "        'Julio', 'Agosto', 'Septiembre', 'Octubre', 'Noviembre', 'Diciembre']\n",
        "\n",
        "# Crear una figura y ejes para el gráfico\n",
        "fig, ax = plt.subplots(figsize=(12, 6))\n",
        "\n",
        "# Crear una lista para almacenar los DataFrames de cada mes\n",
        "dataframes_meses = []\n",
        "\n",
        "# Iterar a través de los meses\n",
        "for mes in meses:\n",
        "    # Procesar cada mes y calcular la suma de la columna 'Cantidad Pedida'\n",
        "\n",
        "    # 1. Dividir la columna 'Dirección de Envío' en componentes de dirección\n",
        "    dataframe_mes_con_direccion = dataframes[mes]['Dirección de Envio'].str.split(', ', expand=True)\n",
        "    dataframe_mes_con_direccion.columns = ['Calle', 'Ciudad', 'PO BOX']\n",
        "\n",
        "    # 2. Separar 'PO BOX' en 'Estado' y 'Código Postal'\n",
        "    dataframe_mes_con_direccion[['Estado', 'Cod Postal']] = dataframe_mes_con_direccion['PO BOX'].str.split(' ', expand=True)\n",
        "\n",
        "    # 3. Concatenar los componentes de dirección con el DataFrame original\n",
        "    dataframe_mes_desglosado = pd.concat([dataframes[mes], dataframe_mes_con_direccion], axis=1)\n",
        "\n",
        "    # 4. Agrupar por 'Estado' y calcular la suma de 'Cantidad Pedida'\n",
        "    dataframe_mes_desglosado_AgrupadoPor_Estado = dataframe_mes_desglosado.groupby('Estado')['Cantidad Pedida'].sum().reset_index(inplace=False)\n",
        "\n",
        "    # Almacenar el DataFrame resultante en la lista\n",
        "    dataframes_meses.append(dataframe_mes_desglosado_AgrupadoPor_Estado)\n",
        "\n",
        "# Concatenar los DataFrames de cada mes en uno solo\n",
        "df_total = pd.concat(dataframes_meses)\n",
        "\n",
        "# Crear el gráfico de barras\n",
        "plt.bar(df_total[\"Estado\"], df_total[\"Cantidad Pedida\"], color='skyblue')\n",
        "\n",
        "# Configurar etiquetas y título del gráfico\n",
        "plt.xlabel('Estado')\n",
        "plt.ylabel('Cantidad Pedida Total')\n",
        "plt.title('Cantidad Pedida por Estado para Todos los Meses')\n",
        "\n",
        "# Rotar las etiquetas del eje x para mejorar la legibilidad\n",
        "plt.xticks(rotation=45)\n",
        "\n",
        "# Ajustar el diseño del gráfico para evitar recortes\n",
        "plt.tight_layout()\n",
        "\n",
        "# Mostrar el gráfico\n",
        "plt.show()"
      ],
      "metadata": {
        "id": "-YlL087GOCpU"
      },
      "execution_count": null,
      "outputs": []
    },
    {
      "cell_type": "code",
      "source": [
        "# Importa la biblioteca Plotly Express como 'px'\n",
        "import plotly.express as px\n",
        "\n",
        "# Crea un gráfico de cloropletas\n",
        "fig = px.choropleth(dataframe_mes_desglosado_AgrupadoPor_Estado,  # DataFrame de datos\n",
        "                    locations='Estado',  # Columna que contiene los nombres de los estados\n",
        "                    locationmode='USA-states',  # Modo de ubicación para estados de EE. UU.\n",
        "                    color='Cantidad Pedida',  # Columna que determina la escala de color\n",
        "                    color_continuous_scale=\"RdYlGn\",  # Escala de colores\n",
        "                    scope=\"usa\",  # Alcance geográfico: solo Estados Unidos\n",
        "                    title='Ventas por estado'  # Título del gráfico\n",
        "                   )\n",
        "\n",
        "# Muestra el gráfico\n",
        "fig.show()"
      ],
      "metadata": {
        "id": "e7fXLf3jMLJF"
      },
      "execution_count": null,
      "outputs": []
    },
    {
      "cell_type": "code",
      "source": [
        "# Importar las bibliotecas necesarias\n",
        "import matplotlib.pyplot as plt  # Para crear gráficos\n",
        "import pandas as pd  # Para trabajar con DataFrames\n",
        "\n",
        "# Lista de meses que se utilizarán para el análisis\n",
        "meses = ['Enero', 'Febrero', 'Marzo', 'Abril', 'Mayo', 'Junio',\n",
        "        'Julio', 'Agosto', 'Septiembre', 'Octubre', 'Noviembre', 'Diciembre']\n",
        "\n",
        "# Crear una lista para almacenar los DataFrames de cada mes\n",
        "dataframes_meses = []\n",
        "\n",
        "# Iterar a través de los meses\n",
        "for mes in meses:\n",
        "    # Procesar cada mes y calcular la suma de la columna 'Cantidad Pedida'\n",
        "\n",
        "    # 1. Dividir la columna 'Dirección de Envío' en componentes de dirección\n",
        "    dataframe_mes_con_direccion = dataframes[mes]['Dirección de Envio'].str.split(', ', expand=True)\n",
        "    dataframe_mes_con_direccion.columns = ['Calle', 'Ciudad', 'PO BOX']\n",
        "\n",
        "    # 2. Separar 'PO BOX' en 'Estado' y 'Código Postal'\n",
        "    dataframe_mes_con_direccion[['Estado', 'Cod Postal']] = dataframe_mes_con_direccion['PO BOX'].str.split(' ', expand=True)\n",
        "\n",
        "    # 3. Concatenar los componentes de dirección con el DataFrame original\n",
        "    dataframe_mes_desglosado = pd.concat([dataframes[mes], dataframe_mes_con_direccion], axis=1)\n",
        "\n",
        "    # 4. Agrupar por 'Estado' y calcular la suma de 'Cantidad Pedida'\n",
        "    dataframe_mes_desglosado_AgrupadoPor_Estado = dataframe_mes_desglosado.groupby('Estado')['Cantidad Pedida'].sum().reset_index(inplace=False)\n",
        "\n",
        "    # 5. Agregar una columna 'mes' para identificar el mes correspondiente\n",
        "    dataframe_mes_desglosado_AgrupadoPor_Estado['mes'] = mes\n",
        "\n",
        "    # Almacenar los datos de cada mes en el DataFrame de meses\n",
        "    dataframes_meses.append(dataframe_mes_desglosado_AgrupadoPor_Estado)\n",
        "\n",
        "# Concatenar los DataFrames de cada mes en uno solo\n",
        "df_total = pd.concat(dataframes_meses)\n",
        "\n",
        "# Crear un DataFrame pivote para el gráfico apilado\n",
        "df_pivot = df_total.pivot(index='Estado', columns='mes', values='Cantidad Pedida').fillna(0)\n",
        "\n",
        "# Crear el gráfico de barras apilado\n",
        "ax = df_pivot.plot(kind='bar', stacked=True, figsize=(12, 6))\n",
        "\n",
        "# Configurar etiquetas y título del gráfico\n",
        "plt.xlabel('Estado')\n",
        "plt.ylabel('Cantidad Pedida Total')\n",
        "plt.title('Variación en Ventas por Estado a lo largo de los Meses')\n",
        "\n",
        "# Rotar las etiquetas del eje x para mejorar la legibilidad\n",
        "plt.xticks(rotation=45)\n",
        "\n",
        "# Ajustar el diseño del gráfico para evitar recortes\n",
        "plt.tight_layout()\n",
        "\n",
        "# Mostrar el gráfico\n",
        "plt.show()"
      ],
      "metadata": {
        "id": "dzs6HfkgODgD"
      },
      "execution_count": null,
      "outputs": []
    },
    {
      "cell_type": "code",
      "source": [
        "import plotly.express as px\n",
        "import pandas as pd\n",
        "\n",
        "meses = ['Enero', 'Febrero', 'Marzo', 'Abril', 'Mayo', 'Junio',\n",
        "        'Julio', 'Agosto', 'Septiembre', 'Octubre', 'Noviembre', 'Diciembre']\n",
        "\n",
        "# Crear un DataFrame para almacenar los datos de todos los meses\n",
        "dataframes_meses = []\n",
        "\n",
        "for mes in meses:\n",
        "    # Tu código para procesar cada mes y calcular la suma de Cantidad Pedida\n",
        "    dataframe_mes_con_direccion = dataframes[mes]['Dirección de Envio'].str.split(', ', expand=True)\n",
        "    dataframe_mes_con_direccion.columns = ['Calle', 'Ciudad', 'PO BOX']\n",
        "    dataframe_mes_con_direccion[['Estado', 'Cod Postal']] = dataframe_mes_con_direccion['PO BOX'].str.split(' ', expand=True)\n",
        "    dataframe_mes_desglosado = pd.concat([dataframes[mes], dataframe_mes_con_direccion], axis=1)\n",
        "    dataframe_mes_desglosado_AgrupadoPor_Estado = dataframe_mes_desglosado.groupby('Estado')['Cantidad Pedida'].sum().reset_index(inplace=False)\n",
        "    dataframe_mes_desglosado_AgrupadoPor_Estado['mes'] = mes  # Agregar columna 'mes' para identificar el mes\n",
        "\n",
        "    # Almacenar los datos de cada mes en el DataFrame de meses\n",
        "    dataframes_meses.append(dataframe_mes_desglosado_AgrupadoPor_Estado)\n",
        "\n",
        "# Concatenar los DataFrames de cada mes en uno solo\n",
        "df_total = pd.concat(dataframes_meses)\n",
        "\n",
        "# Crear el gráfico de líneas\n",
        "fig = px.line(df_total, x='mes', y='Cantidad Pedida', color='Estado', title='Variación en Ventas por Estado a lo largo de los Meses')\n",
        "\n",
        "# Mostrar el gráfico\n",
        "fig.show()"
      ],
      "metadata": {
        "id": "rCjDReQGODeH"
      },
      "execution_count": null,
      "outputs": []
    },
    {
      "cell_type": "code",
      "source": [
        "df_total"
      ],
      "metadata": {
        "id": "vh8iZmmeODX7"
      },
      "execution_count": null,
      "outputs": []
    },
    {
      "cell_type": "markdown",
      "source": [
        "4. Análisis del producto más vendido:\n",
        "\n",
        " ● ¿Cuál es el producto más vendido en general y en cada mes?\n",
        "\n",
        " ● ¿Qué factores crees que han contribuido al éxito de ese producto en particular?"
      ],
      "metadata": {
        "id": "7lAkS3cVgvrK"
      }
    },
    {
      "cell_type": "code",
      "source": [
        "meses = ['Enero', 'Febrero', 'Marzo', 'Abril', 'Mayo', 'Junio',\n",
        "        'Julio', 'Agosto', 'Septiembre', 'Octubre', 'Noviembre', 'Diciembre']\n",
        "\n",
        "# Crear un DataFrame para almacenar los datos de todos los meses\n",
        "dataframe_mes_desglosado_todo_el_anio = pd.DataFrame()  # Inicializa un DataFrame vacío\n",
        "\n",
        "#Creo el objeto figura\n",
        "fig = go.Figure()\n",
        "\n",
        "for mes in meses:\n",
        "    # Tu código para procesar cada mes y calcular la suma de Cantidad Pedida y el promedio de Precio Unitario\n",
        "    dataframe_mes_con_direccion = dataframes[mes]['Dirección de Envio'].str.split(', ', expand=True)\n",
        "    dataframe_mes_con_direccion.columns = ['Calle', 'Ciudad', 'PO BOX']\n",
        "    dataframe_mes_con_direccion[['Estado', 'Cod Postal']] = dataframe_mes_con_direccion['PO BOX'].str.split(' ', expand=True)\n",
        "    dataframe_mes_desglosado_mes = pd.concat([dataframes[mes], dataframe_mes_con_direccion], axis=1)\n",
        "    dataframe_mes_desglosado_mes = dataframe_mes_desglosado_mes.groupby('Producto').agg({\n",
        "        'Cantidad Pedida': 'sum',\n",
        "        'Precio Unitario': 'mean'\n",
        "    })\n",
        "    dataframe_mes_desglosado_mes['Mes'] = mes  # Agregar el mes como una columna\n",
        "    dataframe_mes_desglosado_todo_el_anio = pd.concat([dataframe_mes_desglosado_todo_el_anio, dataframe_mes_desglosado_mes])\n",
        "\n",
        "  # Ahora tienes un DataFrame completo con los datos de todos los meses\n",
        "\n",
        "  # Realizar el análisis de productos\n",
        "    Analisis_de_productos_mas_vendido_Anio = dataframe_mes_desglosado_todo_el_anio.groupby('Producto').agg({\n",
        "    'Cantidad Pedida': 'sum',       # Suma de la cantidad pedida para cada producto.\n",
        "    'Precio Unitario': 'mean'       # Cálculo del promedio del precio unitario para cada producto.\n",
        "    })\n",
        "\n",
        "# Ordenar los productos de mayor a menor según la cantidad pedida.\n",
        "Analisis_de_productos_mas_vendido_Anio = Analisis_de_productos_mas_vendido_Anio.sort_values(by='Cantidad Pedida', ascending=False)\n",
        "\n",
        "# Resetea el índice del DataFrame 'Analisis_de_productos' para que los índices sean secuenciales.\n",
        "Analisis_de_productos_mas_vendido_Anio = Analisis_de_productos_mas_vendido_Anio.reset_index()\n",
        "\n",
        "# Ahora puedes continuar con tu análisis de productos\n",
        "\n",
        "Analisis_de_productos_mas_vendido_Anio\n",
        "\n",
        "#dataframe_mes_desglosado\n"
      ],
      "metadata": {
        "id": "edwcCNOyODUp"
      },
      "execution_count": null,
      "outputs": []
    },
    {
      "cell_type": "code",
      "source": [
        "# Resetea el índice del DataFrame 'Analisis_de_productos' para que los índices sean secuenciales.\n",
        "dataframe_mes_desglosado_todo_el_anio = dataframe_mes_desglosado_todo_el_anio.reset_index()\n",
        "\n",
        "\n",
        "dataframe_mes_desglosado_todo_el_anio"
      ],
      "metadata": {
        "id": "Ytx8nyotODRK"
      },
      "execution_count": null,
      "outputs": []
    },
    {
      "cell_type": "code",
      "source": [
        "import pandas as pd\n",
        "import matplotlib.pyplot as plt\n",
        "\n",
        "# Encuentra el producto más vendido por mes\n",
        "dataframe_mes_desglosado_todo_el_anio = dataframe_mes_desglosado_todo_el_anio.groupby(['Mes', 'Producto'])['Cantidad Pedida'].sum().reset_index()\n",
        "indices_productos_maximos = dataframe_mes_desglosado_todo_el_anio.groupby('Mes')['Cantidad Pedida'].idxmax()\n",
        "productos_mas_vendidos = dataframe_mes_desglosado_todo_el_anio.loc[indices_productos_maximos]\n",
        "\n",
        "# Crea un gráfico de barras apiladas para mostrar el producto más vendido por mes\n",
        "plt.figure(figsize=(12, 6))\n",
        "for mes in dataframe_mes_desglosado_todo_el_anio['Mes'].unique():\n",
        "    producto_mes = productos_mas_vendidos[productos_mas_vendidos['Mes'] == mes]\n",
        "    plt.bar(mes, producto_mes['Cantidad Pedida'], label=producto_mes['Producto'].values[0])\n",
        "\n",
        "# Configura etiquetas y título del gráfico\n",
        "plt.xlabel('Mes')\n",
        "plt.ylabel('Cantidad Pedida')\n",
        "plt.title('Producto más Vendido por Mes')\n",
        "plt.legend()\n",
        "\n",
        "# Muestra el gráfico\n",
        "plt.xticks(rotation=45)\n",
        "plt.tight_layout()\n",
        "plt.show()"
      ],
      "metadata": {
        "id": "lyuq1wHEODKI"
      },
      "execution_count": null,
      "outputs": []
    },
    {
      "cell_type": "code",
      "source": [
        "dataframe_mes_desglosado_todo_el_anio"
      ],
      "metadata": {
        "id": "WekpgiSHP4AK"
      },
      "execution_count": null,
      "outputs": []
    },
    {
      "cell_type": "code",
      "source": [
        "dataframe_mes_desglosado"
      ],
      "metadata": {
        "id": "rMwYoYtsP39g"
      },
      "execution_count": null,
      "outputs": []
    },
    {
      "cell_type": "code",
      "source": [
        "# Crear listas para almacenar los totales de ventas y los nombres de los meses\n",
        "totales_ventas = []  # Lista para almacenar los totales de ventas\n",
        "nombres_meses = []   # Lista para almacenar los nombres de los meses\n",
        "\n",
        "dataframes_todo_desglozado = {}\n",
        "\n",
        "# La lista 'meses' contiene los nombres de los meses en español.\n",
        "meses = ['Enero', 'Febrero', 'Marzo', 'Abril', 'Mayo', 'Junio',\n",
        "         'Julio', 'Agosto', 'Septiembre', 'Octubre', 'Noviembre', 'Diciembre']\n",
        "\n",
        "# Itera sobre cada mes en la lista 'meses'.\n",
        "for mes in meses:\n",
        "    # Accede a los DataFrames almacenados en 'dataframes' correspondientes a cada mes.\n",
        "    # 'dataframe_mes' contendrá el DataFrame correspondiente al mes actual en cada iteración.\n",
        "    dataframe_mes = dataframes[mes]\n",
        "\n",
        "    # A partir de este punto, se puede trabajar con el DataFrame específico correspondiente a cada mes.\n",
        "\n",
        "def extraer_datos(datos):\n",
        "    \"\"\"\n",
        "    Esta función toma un DataFrame de Pandas 'datos' y realiza las siguientes operaciones:\n",
        "\n",
        "    1. Convierte la columna 'Fecha de Pedido' en un objeto datetime.\n",
        "    2. Extrae la hora del día de la columna 'Fecha de Pedido' y la agrega como una nueva columna 'Hora'.\n",
        "    3. Extrae el día del mes de la columna 'Fecha de Pedido' y la agrega como una nueva columna 'Dia'.\n",
        "\n",
        "    Args:\n",
        "    datos (DataFrame): El DataFrame que contiene los datos de ventas.\n",
        "\n",
        "    Returns:\n",
        "    DataFrame: El DataFrame 'datos' con las columnas 'Fecha de Pedido', 'Hora' y 'Dia' modificadas o agregadas.\n",
        "    \"\"\"\n",
        "\n",
        "    # Convierte la columna 'Fecha de Pedido' en un objeto datetime\n",
        "    datos['Fecha de Pedido'] = pd.to_datetime(datos['Fecha de Pedido'])\n",
        "\n",
        "    # Extrae la hora del día de la columna 'Fecha de Pedido' y la agrega como una nueva columna 'Hora'\n",
        "    datos['Hora'] = datos['Fecha de Pedido'].dt.hour\n",
        "\n",
        "    # Extrae el día del mes de la columna 'Fecha de Pedido' y la agrega como una nueva columna 'Dia'\n",
        "    datos['Dia'] = datos['Fecha de Pedido'].dt.day\n",
        "\n",
        "    return datos\n",
        "\n",
        "\n",
        "# Ejemplo de uso de la función 'extraer_datos'\n",
        "# dataframe_mes = extraer_datos(dataframe_mes)\n",
        "\n",
        "# Recorrer una lista llamada 'meses' (se asume que esta lista está definida en otro lugar en el código)\n",
        "for mes in meses:\n",
        "    # Suponemos que 'dataframes' es un diccionario que contiene los datos de ventas por mes\n",
        "    dataframe_mes = dataframes[mes]\n",
        "\n",
        "    # Suponemos que hay una función llamada 'extraer_datos' que procesa el DataFrame 'dataframe_mes'\n",
        "    dataframe_mes = extraer_datos(dataframe_mes)\n",
        "\n",
        "    # 1. Dividir la columna 'Dirección de Envío' en 'Calle', 'Ciudad' y 'PO BOX'\n",
        "    dataframe_mes_con_direccion = dataframes[mes]['Dirección de Envio'].str.split(', ', expand=True)\n",
        "    dataframe_mes_con_direccion.columns = ['Calle', 'Ciudad', 'PO BOX']\n",
        "\n",
        "    # 2. Separar 'PO BOX' en 'Estado' y 'Código Postal'\n",
        "    dataframe_mes_con_direccion[['Estado', 'Cod Postal']] = dataframe_mes_con_direccion['PO BOX'].str.split(' ', expand=True)\n",
        "\n",
        "    # 3. Concatenar los componentes de dirección con el DataFrame original\n",
        "    dataframe_mes_desglosado = pd.concat([dataframes[mes], dataframe_mes_con_direccion], axis=1)\n",
        "\n",
        "    dataframes_todo_desglozado[mes] = dataframe_mes_desglosado\n",
        "\n",
        "\n",
        "# (MUESTRA TODO EL DATAFRAMA DE UN MES EN ESTE CASO DICIEMBRE PORQUE ES EL ULTIMO MES DEL AñO Y FUE EL ULTIMO DEL CICLO FOR)\n",
        "#  dataframe_mes_desglosado\n",
        "dataframes_todo_desglozado['Agosto']"
      ],
      "metadata": {
        "id": "apZH0SX8P33N"
      },
      "execution_count": null,
      "outputs": []
    },
    {
      "cell_type": "markdown",
      "source": [
        "5. Tendencia ventas:\n",
        "● ¿Existe alguna tendencia o patrón en las ventas que se repita a lo largo de los días en los diferentes meses?"
      ],
      "metadata": {
        "id": "osGCcNIWOXxT"
      }
    },
    {
      "cell_type": "code",
      "source": [
        "# Diccionario 'dataframes_todo_desglozado' que contiene DataFrames para cada mes\n",
        "# dataframes_todo_desglozado = {'Enero': df_enero, 'Febrero': df_febrero, ...}\n",
        "\n",
        "# La lista 'meses' contiene los nombres de los meses en español.\n",
        "meses = ['Enero', 'Febrero', 'Marzo', 'Abril', 'Mayo', 'Junio',\n",
        "         'Julio', 'Agosto', 'Septiembre', 'Octubre', 'Noviembre', 'Diciembre']\n",
        "\n",
        "# Crear una figura de Plotly\n",
        "fig = go.Figure()\n",
        "\n",
        "# Iterar sobre cada mes\n",
        "for mes in meses:\n",
        "    # Obtener el DataFrame del mes actual\n",
        "    df_mes = dataframes_todo_desglozado[mes]\n",
        "\n",
        "    # Asegurarse de que 'Día' sea de tipo numérico\n",
        "    df_mes['Dia'] = pd.to_numeric(df_mes['Dia'], errors='coerce')\n",
        "\n",
        "    # Agrupar los datos por 'Día' y sumar la cantidad pedida en cada día\n",
        "    df_agregado = df_mes.groupby('Dia')['Cantidad Pedida'].sum().reset_index()\n",
        "\n",
        "    # Crear una barra para este mes en la figura\n",
        "    fig.add_trace(go.Bar(\n",
        "        x=df_agregado['Dia'],\n",
        "        y=df_agregado['Cantidad Pedida'],\n",
        "        name=mes,  # Nombre del mes para la leyenda\n",
        "    ))\n",
        "\n",
        "# Personalizar el diseño del gráfico\n",
        "fig.update_layout(\n",
        "    title='Cantidad Total Pedida por Día (Cada Mes en un Color Diferente)',\n",
        "    xaxis_title='Día',\n",
        "    yaxis_title='Cantidad Total Pedida',\n",
        "    xaxis=dict(type='category'),  # Configurar el eje x como una categoría\n",
        ")\n",
        "\n",
        "# Mostrar el gráfico\n",
        "fig.show()\n"
      ],
      "metadata": {
        "id": "SJF1FlddP3p3"
      },
      "execution_count": null,
      "outputs": []
    },
    {
      "cell_type": "markdown",
      "source": [],
      "metadata": {
        "id": "unIrI2UghMBn"
      }
    },
    {
      "cell_type": "code",
      "source": [
        "# Crear una función para visualizar la tendencia diaria a lo largo de los meses\n",
        "def plot_daily_trend(dataframes):\n",
        "    num_months = len(dataframes)\n",
        "    rows = num_months // 3 + 1 if num_months % 3 != 0 else num_months // 3\n",
        "\n",
        "    # Ordenar los meses de enero a diciembre\n",
        "    sorted_months = ['Enero', 'Febrero', 'Marzo', 'Abril', 'Mayo', 'Junio', 'Julio', 'Agosto', 'Septiembre', 'Octubre', 'Noviembre', 'Diciembre']\n",
        "\n",
        "    fig = make_subplots(rows=rows, cols=3, subplot_titles=sorted_months)\n",
        "\n",
        "    for i, mes in enumerate(sorted_months, 1):\n",
        "        df = dataframes[mes]\n",
        "        df['Fecha de Pedido'] = pd.to_datetime(df['Fecha de Pedido'])\n",
        "        daily_sales = df.groupby(df['Fecha de Pedido'].dt.day)['Cantidad Pedida'].sum()\n",
        "\n",
        "        row = (i - 1) // 3 + 1\n",
        "        col = (i - 1) % 3 + 1\n",
        "\n",
        "        fig.add_trace(go.Scatter(x=daily_sales.index, y=daily_sales.values, mode='lines+markers', name=mes),\n",
        "                      row=row, col=col)\n",
        "\n",
        "    fig.update_layout(height=rows * 300, width=1000, title_text=\"Tendencia Diaria de Ventas\")\n",
        "    fig.show()\n",
        "\n",
        "# Llamar a la función con los dataframes\n",
        "plot_daily_trend(dataframes)"
      ],
      "metadata": {
        "id": "EtCtLu3Ig8f_"
      },
      "execution_count": null,
      "outputs": []
    },
    {
      "cell_type": "markdown",
      "source": [
        "¿Cómo varían las ventas a lo largo de los diferentes días de la semana?"
      ],
      "metadata": {
        "id": "pH_VrzC0ht_-"
      }
    },
    {
      "cell_type": "code",
      "source": [
        "import plotly.graph_objects as go\n",
        "\n",
        "# Crear una función para visualizar las ventas a lo largo de los diferentes días de la semana\n",
        "def plot_weekly_variation(dataframes):\n",
        "    num_months = len(dataframes)\n",
        "    rows = num_months // 3 + 1 if num_months % 3 != 0 else num_months // 3\n",
        "\n",
        "    # Ordenar los meses de enero a diciembre\n",
        "    sorted_months = ['Enero', 'Febrero', 'Marzo', 'Abril', 'Mayo', 'Junio', 'Julio', 'Agosto', 'Septiembre', 'Octubre', 'Noviembre', 'Diciembre']\n",
        "\n",
        "    fig = make_subplots(rows=rows, cols=3, subplot_titles=sorted_months)\n",
        "\n",
        "    # Definir el orden de los días de la semana\n",
        "    days_order = ['Lunes', 'Martes', 'Miércoles', 'Jueves', 'Viernes', 'Sábado', 'Domingo']\n",
        "\n",
        "    for i, mes in enumerate(sorted_months, 1):\n",
        "        df = dataframes[mes]\n",
        "        df['Fecha de Pedido'] = pd.to_datetime(df['Fecha de Pedido'])\n",
        "        df['Día de la Semana'] = df['Fecha de Pedido'].dt.day_name()\n",
        "\n",
        "        # Calcular las ventas diarias promedio por día de la semana\n",
        "        avg_daily_sales = df.groupby('Día de la Semana')['Cantidad Pedida'].mean()\n",
        "\n",
        "        row = (i - 1) // 3 + 1\n",
        "        col = (i - 1) % 3 + 1\n",
        "\n",
        "        # Crear el gráfico de barras usando plotly.graph_objects\n",
        "        trace = go.Bar(x=avg_daily_sales.index, y=avg_daily_sales.values, name=mes)\n",
        "        fig.add_trace(trace, row=row, col=col)\n",
        "\n",
        "    # Ajustar la escala del eje y a logarítmica\n",
        "    fig.update_layout(yaxis_type='log')\n",
        "\n",
        "    # Cambiar los nombres de los días de la semana a español\n",
        "    fig.update_xaxes(tickvals=list(range(7)), ticktext=days_order)\n",
        "\n",
        "    fig.update_layout(height=rows * 300, width=1000, title_text=\"Variación Semanal de Ventas\")\n",
        "    fig.show()\n",
        "\n",
        "# Llamar a la función con los dataframes\n",
        "plot_weekly_variation(dataframes)"
      ],
      "metadata": {
        "id": "wLE50lSohWiF"
      },
      "execution_count": null,
      "outputs": []
    },
    {
      "cell_type": "markdown",
      "source": [
        "¿Se observa alguna diferencia significativa en las ventas entre los días laborables y los fines de semana?"
      ],
      "metadata": {
        "id": "jBW80RxozhW4"
      }
    },
    {
      "cell_type": "code",
      "source": [
        "# Crear una función para visualizar las diferencias de ventas entre días laborables y fines de semana\n",
        "def plot_weekday_vs_weekend(dataframes):\n",
        "    num_months = len(dataframes)\n",
        "    rows = num_months // 3 + 1 if num_months % 3 != 0 else num_months // 3\n",
        "\n",
        "    # Ordenar los meses de enero a diciembre\n",
        "    sorted_months = ['Enero', 'Febrero', 'Marzo', 'Abril', 'Mayo', 'Junio', 'Julio', 'Agosto', 'Septiembre', 'Octubre', 'Noviembre', 'Diciembre']\n",
        "\n",
        "    fig = make_subplots(rows=rows, cols=3, subplot_titles=sorted_months)\n",
        "\n",
        "    for i, mes in enumerate(sorted_months, 1):\n",
        "        df = dataframes[mes]\n",
        "        df['Fecha de Pedido'] = pd.to_datetime(df['Fecha de Pedido'])\n",
        "\n",
        "        # Crear una nueva columna para indicar si es fin de semana o no\n",
        "        df['Es Fin de Semana'] = (df['Fecha de Pedido'].dt.dayofweek >= 5)\n",
        "\n",
        "        # Calcular las ventas diarias promedio para días laborables y fines de semana\n",
        "        avg_sales = df.groupby('Es Fin de Semana')['Cantidad Pedida'].mean()\n",
        "\n",
        "        row = (i - 1) // 3 + 1\n",
        "        col = (i - 1) % 3 + 1\n",
        "\n",
        "        # Crear el gráfico de barras usando plotly.graph_objects\n",
        "        trace = go.Bar(x=avg_sales.index.map({False: 'Días Laborables', True: 'Fines de Semana'}), y=avg_sales.values, name=mes)\n",
        "        fig.add_trace(trace, row=row, col=col)\n",
        "\n",
        "    # Ajustar la escala del eje y a logarítmica\n",
        "    fig.update_layout(yaxis_type='log')\n",
        "\n",
        "    fig.update_layout(height=rows * 300, width=1000, title_text=\"Diferencia de Ventas entre Días Laborables y Fines de Semana\")\n",
        "    fig.show()\n",
        "\n",
        "# Llamar a la función con los dataframes\n",
        "plot_weekday_vs_weekend(dataframes)"
      ],
      "metadata": {
        "id": "3aAGmTW-oaWl"
      },
      "execution_count": null,
      "outputs": []
    },
    {
      "cell_type": "markdown",
      "source": [
        "6. Impacto de eventos especiales en las ventas:\n",
        "● ¿Se ha observado algún aumento o disminución significativa en las ventas en días cercanos a eventos especiales, como días festivos?"
      ],
      "metadata": {
        "id": "RPPTJLttM7bL"
      }
    },
    {
      "cell_type": "code",
      "source": [
        "import plotly.graph_objects as go\n",
        "import pandas as pd\n",
        "\n",
        "# diccionario 'dataframes_todo_desglozado' que contiene DataFrames para cada mes\n",
        "# dataframes_todo_desglozado = {'Enero': df_enero, 'Febrero': df_febrero, ...}\n",
        "\n",
        "# La lista 'meses' contiene los nombres de los meses en español.\n",
        "meses = ['Enero', 'Febrero', 'Marzo', 'Abril', 'Mayo', 'Junio',\n",
        "         'Julio', 'Agosto', 'Septiembre', 'Octubre', 'Noviembre', 'Diciembre']\n",
        "\n",
        "for mes in meses:\n",
        "    # Acceso al DataFrame correspondiente al mes actual\n",
        "    df_mes = dataframes_todo_desglozado[mes]\n",
        "\n",
        "    # Asegurarse de que 'Día' sea de tipo numérico (puede ser necesario convertirlo)\n",
        "    df_mes['Dia'] = pd.to_numeric(df_mes['Dia'], errors='coerce')\n",
        "\n",
        "    # Agrupar los datos por 'Día' y suma la cantidad pedida en cada día\n",
        "    df_agregado = df_mes.groupby('Dia')['Cantidad Pedida'].sum().reset_index()\n",
        "\n",
        "    # Crear el gráfico de barras con plotly.graph_objects\n",
        "    fig = go.Figure(data=[go.Bar(x=df_agregado['Dia'], y=df_agregado['Cantidad Pedida'], marker_color='skyblue')])\n",
        "\n",
        "    # Personalizar el diseño del gráfico\n",
        "    fig.update_layout(\n",
        "        title=f'Cantidad Total Pedida para {mes}',\n",
        "        xaxis_title='Día',\n",
        "        yaxis_title='Cantidad Total Pedida',\n",
        "        xaxis=dict(type='category'),  # Configura el eje x como una categoría\n",
        "    )\n",
        "\n",
        "    # Mostrar el gráfico\n",
        "    fig.show()"
      ],
      "metadata": {
        "id": "TFz_dD7K0MPN"
      },
      "execution_count": null,
      "outputs": []
    }
  ]
}